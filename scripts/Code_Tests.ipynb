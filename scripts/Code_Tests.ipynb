{
 "cells": [
  {
   "cell_type": "code",
   "execution_count": null,
   "id": "3b28b41f",
   "metadata": {},
   "outputs": [],
   "source": [
    "%load_ext autoreload\n",
    "%autoreload 2\n"
   ]
  },
  {
   "cell_type": "code",
   "execution_count": null,
   "id": "19fdf878",
   "metadata": {},
   "outputs": [],
   "source": [
    "from NestEO.core.main import NestEO\n",
    "\n",
    "session = NestEO(\n",
    "    root_folder=\"D:/NestEO_hf\",\n",
    "    hf_repo_id=None,\n",
    "    project_name=\"NestEO\",\n",
    "    structure_file=\"structure.parquet\"\n",
    ")"
   ]
  },
  {
   "cell_type": "code",
   "execution_count": null,
   "id": "d0bd5120",
   "metadata": {},
   "outputs": [],
   "source": [
    "session.structure.structure_df\n"
   ]
  },
  {
   "cell_type": "code",
   "execution_count": null,
   "id": "8ca59eae",
   "metadata": {},
   "outputs": [],
   "source": [
    "\n",
    "# df = session.structure.create_structure_from_local(out_format=\"parquet\")\n",
    "df = session.structure.create_structure_from_local(out_format=\"parquet\")                                                                                                                                                                                                                                                                                                \n",
    "session.summary()\n"
   ]
  },
  {
   "cell_type": "code",
   "execution_count": null,
   "id": "33f98180",
   "metadata": {},
   "outputs": [],
   "source": [
    "df.to_csv(\"D:/structure.csv\", index=False)"
   ]
  },
  {
   "cell_type": "code",
   "execution_count": null,
   "id": "c0cb4e21",
   "metadata": {},
   "outputs": [],
   "source": [
    "import pandas as pd\n"
   ]
  }
 ],
 "metadata": {
  "kernelspec": {
   "display_name": "PytKerasNewHQ",
   "language": "python",
   "name": "python3"
  },
  "language_info": {
   "codemirror_mode": {
    "name": "ipython",
    "version": 3
   },
   "file_extension": ".py",
   "mimetype": "text/x-python",
   "name": "python",
   "nbconvert_exporter": "python",
   "pygments_lexer": "ipython3",
   "version": "3.11.7"
  }
 },
 "nbformat": 4,
 "nbformat_minor": 5
}
