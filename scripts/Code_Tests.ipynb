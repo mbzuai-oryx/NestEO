{
 "cells": [
  {
   "cell_type": "code",
   "execution_count": 2,
   "id": "3b28b41f",
   "metadata": {},
   "outputs": [],
   "source": [
    "%load_ext autoreload\n",
    "%autoreload 2\n"
   ]
  },
  {
   "cell_type": "code",
   "execution_count": null,
   "id": "19fdf878",
   "metadata": {},
   "outputs": [],
   "source": [
    "from henarcmeo.core.main import Henarcmeo\n",
    "\n",
    "session = Henarcmeo(\n",
    "    root_folder=\"D:/HenarcmeoDataset\",\n",
    "    hf_repo_id=None,\n",
    "    project_name=\"henarcmeo\",\n",
    "    structure_file=\"structure.parquet\"\n",
    ")"
   ]
  },
  {
   "cell_type": "code",
   "execution_count": null,
   "id": "0677ac46",
   "metadata": {},
   "outputs": [],
   "source": [
    "session.structure."
   ]
  },
  {
   "cell_type": "code",
   "execution_count": null,
   "id": "8ca59eae",
   "metadata": {},
   "outputs": [],
   "source": [
    "\n",
    "session.structure.create_structure_from_local()\n",
    "session.summary()\n"
   ]
  }
 ],
 "metadata": {
  "kernelspec": {
   "display_name": "PytKerasNewHQ",
   "language": "python",
   "name": "python3"
  },
  "language_info": {
   "codemirror_mode": {
    "name": "ipython",
    "version": 3
   },
   "file_extension": ".py",
   "mimetype": "text/x-python",
   "name": "python",
   "nbconvert_exporter": "python",
   "pygments_lexer": "ipython3",
   "version": "3.11.7"
  }
 },
 "nbformat": 4,
 "nbformat_minor": 5
}
